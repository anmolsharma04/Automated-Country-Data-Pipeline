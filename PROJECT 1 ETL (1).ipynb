{
 "cells": [
  {
   "cell_type": "markdown",
   "id": "5d774d20-5a5e-4ce0-9633-9c33ccee24f9",
   "metadata": {},
   "source": [
    "Extract data from a REST API (https://restcountries.com/v3.1/name/{name}) for 5 countries: India, US, UK, China, Russia"
   ]
  },
  {
   "cell_type": "markdown",
   "id": "f8c4cd98-368b-4048-8d2f-9a09714fbee8",
   "metadata": {},
   "source": [
    "Load it by saving each country’s data into a separate .json file named after the country (e.g., india.json, us.json)"
   ]
  },
  {
   "cell_type": "markdown",
   "id": "8fc66fee-5e40-4af4-a87c-f0a6d2e4be40",
   "metadata": {},
   "source": [
    "STEP 1. IMPORTING NECESSARY LIBRARIES"
   ]
  },
  {
   "cell_type": "code",
   "execution_count": 108,
   "id": "45315234-4057-4eca-b50b-92653d44fc4a",
   "metadata": {},
   "outputs": [],
   "source": [
    "import requests #used to send http request to api  in order to fetch the data \n",
    "import json     #used to handle the data coming from api (lets u save the api data in .json format)        \n",
    "import os       #used to handle the file operation in the system\n",
    "from datetime import datetime\n",
    "import schedule\n",
    "import time\n",
    "import pytz"
   ]
  },
  {
   "cell_type": "markdown",
   "id": "63cad4ff-fc85-4672-b2e3-1d8f39c7b913",
   "metadata": {},
   "source": [
    "STEP 2.DEFINING COUNTRY LIST "
   ]
  },
  {
   "cell_type": "code",
   "execution_count": 111,
   "id": "f8fe21fc-1fb6-4c09-b7e4-93829e105c0e",
   "metadata": {},
   "outputs": [],
   "source": [
    "country_list=['india','us','uk','china','russia']"
   ]
  },
  {
   "cell_type": "markdown",
   "id": "2485c75e-b776-4221-b75e-9904f1e5f91d",
   "metadata": {},
   "source": [
    "STEP 3.DEFINING API URL"
   ]
  },
  {
   "cell_type": "code",
   "execution_count": 114,
   "id": "d1a826da-765d-46f8-aa7e-5bde2a093250",
   "metadata": {},
   "outputs": [],
   "source": [
    "api_url = \"https://restcountries.com/v3.1/name/\" #country name to be added as per our need manually using loop"
   ]
  },
  {
   "cell_type": "markdown",
   "id": "07dbf1a6-3e1a-43c7-a812-bb3fc145af79",
   "metadata": {},
   "source": [
    "STEP 5. CREATING FOLDER FOR JSON FILES"
   ]
  },
  {
   "cell_type": "code",
   "execution_count": 117,
   "id": "de33d0db-9f03-4acc-9632-ed31a883c410",
   "metadata": {},
   "outputs": [],
   "source": [
    "output_folder = 'country_data'\n",
    "os.makedirs(output_folder , exist_ok = True)  #creates new folder to store the data , if folder already exist it will not throw any error"
   ]
  },
  {
   "cell_type": "markdown",
   "id": "d14bd395-843e-4995-a55f-f453e8b14b7b",
   "metadata": {},
   "source": [
    "STEP 6.ETL LOGIC"
   ]
  },
  {
   "cell_type": "code",
   "execution_count": 122,
   "id": "f9ae6450-2398-49c7-b922-712fb4e14be3",
   "metadata": {},
   "outputs": [],
   "source": [
    "def run_etl():\n",
    "    print(f\"\\n✅ ETL Started at {datetime.now().strftime('%Y-%m-%d %H:%M:%S')}\")\n",
    "    \n",
    "    for country in country_list:\n",
    "        print(f\"\\nProcessing: {country.upper()}\")\n",
    "\n",
    "        # EXTRACT\n",
    "        individual_url = api_url + country\n",
    "        response = requests.get(individual_url)\n",
    "\n",
    "        if response.status_code == 200:\n",
    "            data = response.json()\n",
    "\n",
    "            # TRANSFORM (No transformation required)\n",
    "\n",
    "            # LOAD\n",
    "            file_path = os.path.join(output_folder, f\"{country}.json\")  # Join file with folder\n",
    "            with open(file_path, 'w') as f:  # 'w' = write mode; creates or overwrites file\n",
    "                json.dump(data, f, indent=4)  # Write JSON data with indentation\n",
    "            print(f\"Data saved to: {file_path}\")\n",
    "        \n",
    "        else:\n",
    "            print(f\"Failed to fetch data for {country}. HTTP Status: {response.status_code}\")\n",
    "\n",
    "    print(f\"\\n✅ ETL Finished at {datetime.now().strftime('%Y-%m-%d %H:%M:%S')}\\n\")\n"
   ]
  },
  {
   "cell_type": "markdown",
   "id": "b02ab9c0-2918-45ef-be87-99a90558f71b",
   "metadata": {},
   "source": [
    "STEP 7.AUTOMATION OF THIS PIPELINE TO RUN TWO TIMES A DAY 12 AM AND 12 PM"
   ]
  },
  {
   "cell_type": "code",
   "execution_count": null,
   "id": "85217d29-a1ca-45f3-ab5b-0e1c99a834b9",
   "metadata": {},
   "outputs": [
    {
     "name": "stdout",
     "output_type": "stream",
     "text": [
      "Scheduler started. Waiting for 12:00 AM and 12:00 PM IST\n"
     ]
    }
   ],
   "source": [
    "ist = pytz.timezone(\"Asia/Kolkata\")\n",
    "\n",
    "# Schedule tasks\n",
    "schedule.every().day.at(\"00:00\").do(run_etl)\n",
    "schedule.every().day.at(\"12:00\").do(run_etl)\n",
    "\n",
    "print(\"Scheduler started. Waiting for 12:00 AM and 12:00 PM IST\")\n",
    "\n",
    "# Loop forever to keep checking time\n",
    "while True:\n",
    "    schedule.run_pending()\n",
    "    time.sleep(60)  # Check every minute"
   ]
  },
  {
   "cell_type": "code",
   "execution_count": null,
   "id": "76f3d5ad-20fd-4fd1-bbbb-a51cf08da77d",
   "metadata": {},
   "outputs": [],
   "source": []
  }
 ],
 "metadata": {
  "kernelspec": {
   "display_name": "Python 3 (ipykernel)",
   "language": "python",
   "name": "python3"
  },
  "language_info": {
   "codemirror_mode": {
    "name": "ipython",
    "version": 3
   },
   "file_extension": ".py",
   "mimetype": "text/x-python",
   "name": "python",
   "nbconvert_exporter": "python",
   "pygments_lexer": "ipython3",
   "version": "3.12.4"
  }
 },
 "nbformat": 4,
 "nbformat_minor": 5
}
